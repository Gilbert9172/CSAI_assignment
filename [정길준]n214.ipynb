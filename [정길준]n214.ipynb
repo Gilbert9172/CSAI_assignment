{
  "nbformat": 4,
  "nbformat_minor": 0,
  "metadata": {
    "kernelspec": {
      "display_name": "Python 3",
      "language": "python",
      "name": "python3"
    },
    "language_info": {
      "codemirror_mode": {
        "name": "ipython",
        "version": 3
      },
      "file_extension": ".py",
      "mimetype": "text/x-python",
      "name": "python",
      "nbconvert_exporter": "python",
      "pygments_lexer": "ipython3",
      "version": "3.7.7"
    },
    "colab": {
      "name": "[정길준]n214.ipynb",
      "provenance": [],
      "collapsed_sections": [],
      "include_colab_link": true
    }
  },
  "cells": [
    {
      "cell_type": "markdown",
      "metadata": {
        "id": "view-in-github",
        "colab_type": "text"
      },
      "source": [
        "<a href=\"https://colab.research.google.com/github/Gilbert9172/CSAI_assignment/blob/main/%5B%EC%A0%95%EA%B8%B8%EC%A4%80%5Dn214.ipynb\" target=\"_parent\"><img src=\"https://colab.research.google.com/assets/colab-badge.svg\" alt=\"Open In Colab\"/></a>"
      ]
    },
    {
      "cell_type": "markdown",
      "metadata": {
        "id": "JQnzuYtu3wXJ"
      },
      "source": [
        "<img align=\"right\" src=\"https://ds-cs-images.s3.ap-northeast-2.amazonaws.com/Codestates_Fulllogo_Color.png\" width=100>\n",
        "\n",
        "## *DATA SCIENCE / SECTION 2 / SPRINT 1 / NOTE 4*\n",
        "\n",
        "# 📝 Assignment\n",
        "---"
      ]
    },
    {
      "cell_type": "markdown",
      "metadata": {
        "id": "7IXUfiQ2UKj6"
      },
      "source": [
        "# Gender Cardiovascular disease"
      ]
    },
    {
      "cell_type": "markdown",
      "metadata": {
        "id": "HPTeaz-k3wXL"
      },
      "source": [
        "# 1) "
      ]
    },
    {
      "cell_type": "code",
      "metadata": {
        "id": "rbu9hiqR3wXL",
        "colab": {
          "base_uri": "https://localhost:8080/"
        },
        "outputId": "2c24fbbf-93f5-44a0-b425-d4bbd13574de"
      },
      "source": [
        "import pandas as pd\n",
        "df = pd.read_csv('https://ds-lecture-data.s3.ap-northeast-2.amazonaws.com/cardio/cardio_train.csv', sep=';').iloc[:,1:]\n",
        "df.info()"
      ],
      "execution_count": 1,
      "outputs": [
        {
          "output_type": "stream",
          "text": [
            "<class 'pandas.core.frame.DataFrame'>\n",
            "RangeIndex: 70000 entries, 0 to 69999\n",
            "Data columns (total 12 columns):\n",
            " #   Column       Non-Null Count  Dtype  \n",
            "---  ------       --------------  -----  \n",
            " 0   age          70000 non-null  int64  \n",
            " 1   gender       70000 non-null  int64  \n",
            " 2   height       70000 non-null  int64  \n",
            " 3   weight       70000 non-null  float64\n",
            " 4   ap_hi        70000 non-null  int64  \n",
            " 5   ap_lo        70000 non-null  int64  \n",
            " 6   cholesterol  70000 non-null  int64  \n",
            " 7   gluc         70000 non-null  int64  \n",
            " 8   smoke        70000 non-null  int64  \n",
            " 9   alco         70000 non-null  int64  \n",
            " 10  active       70000 non-null  int64  \n",
            " 11  cardio       70000 non-null  int64  \n",
            "dtypes: float64(1), int64(11)\n",
            "memory usage: 6.4 MB\n"
          ],
          "name": "stdout"
        }
      ]
    },
    {
      "cell_type": "code",
      "metadata": {
        "id": "jnMJlcdn3wXM",
        "colab": {
          "base_uri": "https://localhost:8080/"
        },
        "outputId": "af8d9df8-a92c-4c24-b1d0-4d74610c4c80"
      },
      "source": [
        "# 중복 유무 확인 & 중복 행 제거 & 샘플수\n",
        "print(set(df.duplicated().tolist()),\n",
        "      df.drop_duplicates(inplace=True, ignore_index=True),\n",
        "      df.shape, sep = \"\\n\")"
      ],
      "execution_count": 2,
      "outputs": [
        {
          "output_type": "stream",
          "text": [
            "{False, True}\n",
            "None\n",
            "(69976, 12)\n"
          ],
          "name": "stdout"
        }
      ]
    },
    {
      "cell_type": "markdown",
      "metadata": {
        "id": "cjZDKafg3wXM"
      },
      "source": [
        "# 2) "
      ]
    },
    {
      "cell_type": "markdown",
      "metadata": {
        "id": "Dzi-R-l663Ho"
      },
      "source": [
        "> [타켓특성 확인](https://www.kaggle.com/sulianova/cardiovascular-disease-dataset?select=cardio_train.csv)"
      ]
    },
    {
      "cell_type": "code",
      "metadata": {
        "colab": {
          "base_uri": "https://localhost:8080/"
        },
        "id": "0Em1CYcYiAQW",
        "outputId": "0e107b90-06d1-4f4a-e3ff-287cab94ffa2"
      },
      "source": [
        "df['cardio'].value_counts(normalize = True)"
      ],
      "execution_count": 3,
      "outputs": [
        {
          "output_type": "execute_result",
          "data": {
            "text/plain": [
              "0    0.500229\n",
              "1    0.499771\n",
              "Name: cardio, dtype: float64"
            ]
          },
          "metadata": {
            "tags": []
          },
          "execution_count": 3
        }
      ]
    },
    {
      "cell_type": "code",
      "metadata": {
        "id": "UZBPMYru3wXM",
        "colab": {
          "base_uri": "https://localhost:8080/"
        },
        "outputId": "c2088ca0-6be2-4e34-def8-36d29bd64858"
      },
      "source": [
        "from sklearn.model_selection import train_test_split\n",
        "\n",
        "features = df.columns[:-1]\n",
        "target = ['cardio']\n",
        "\n",
        "X_train, X_test, y_train, y_test = train_test_split(df[features],df[target],\n",
        "                                                    test_size=0.2, random_state=2)\n",
        "\n",
        "X_train, X_val, y_train, y_val = train_test_split(X_train, y_train, \n",
        "                                                  test_size=0.2,random_state=2) \n",
        "\n",
        "len(X_val)"
      ],
      "execution_count": 4,
      "outputs": [
        {
          "output_type": "execute_result",
          "data": {
            "text/plain": [
              "11196"
            ]
          },
          "metadata": {
            "tags": []
          },
          "execution_count": 4
        }
      ]
    },
    {
      "cell_type": "markdown",
      "metadata": {
        "id": "ssZddkZz3wXM"
      },
      "source": [
        "# 3) "
      ]
    },
    {
      "cell_type": "code",
      "metadata": {
        "id": "P7gB3gky3wXN",
        "colab": {
          "base_uri": "https://localhost:8080/"
        },
        "collapsed": true,
        "outputId": "64c678bf-6d43-4fb9-b69f-3d5ead18758f"
      },
      "source": [
        "from sklearn.linear_model import LogisticRegression\n",
        "\n",
        "# 로지스틱 모델 log에 할당\n",
        "log = LogisticRegression(max_iter=1000)\n",
        "\n",
        "# 모델에 fit (train_set)\n",
        "log.fit(X_train, y_train)\n",
        "\n",
        "# 검증 세트의 정확도 \n",
        "print(log.score(X_val,y_val))"
      ],
      "execution_count": 5,
      "outputs": [
        {
          "output_type": "stream",
          "text": [
            "/usr/local/lib/python3.7/dist-packages/sklearn/utils/validation.py:760: DataConversionWarning: A column-vector y was passed when a 1d array was expected. Please change the shape of y to (n_samples, ), for example using ravel().\n",
            "  y = column_or_1d(y, warn=True)\n"
          ],
          "name": "stderr"
        },
        {
          "output_type": "stream",
          "text": [
            "0.7073061807788495\n"
          ],
          "name": "stdout"
        }
      ]
    },
    {
      "cell_type": "markdown",
      "metadata": {
        "id": "VhDYvXzT3wXN"
      },
      "source": [
        "# 4) "
      ]
    },
    {
      "cell_type": "code",
      "metadata": {
        "colab": {
          "base_uri": "https://localhost:8080/"
        },
        "collapsed": true,
        "id": "n3MCpyueJitl",
        "outputId": "4ae5f8cd-137d-4569-f585-313370560f5c"
      },
      "source": [
        "pip install --upgrade category_encoders"
      ],
      "execution_count": 6,
      "outputs": [
        {
          "output_type": "stream",
          "text": [
            "Collecting category_encoders\n",
            "\u001b[?25l  Downloading https://files.pythonhosted.org/packages/44/57/fcef41c248701ee62e8325026b90c432adea35555cbc870aff9cfba23727/category_encoders-2.2.2-py2.py3-none-any.whl (80kB)\n",
            "\r\u001b[K     |████                            | 10kB 23.6MB/s eta 0:00:01\r\u001b[K     |████████▏                       | 20kB 26.5MB/s eta 0:00:01\r\u001b[K     |████████████▏                   | 30kB 30.5MB/s eta 0:00:01\r\u001b[K     |████████████████▎               | 40kB 34.5MB/s eta 0:00:01\r\u001b[K     |████████████████████▎           | 51kB 27.1MB/s eta 0:00:01\r\u001b[K     |████████████████████████▍       | 61kB 28.5MB/s eta 0:00:01\r\u001b[K     |████████████████████████████▍   | 71kB 29.1MB/s eta 0:00:01\r\u001b[K     |████████████████████████████████| 81kB 9.4MB/s \n",
            "\u001b[?25hRequirement already satisfied, skipping upgrade: scipy>=1.0.0 in /usr/local/lib/python3.7/dist-packages (from category_encoders) (1.4.1)\n",
            "Requirement already satisfied, skipping upgrade: numpy>=1.14.0 in /usr/local/lib/python3.7/dist-packages (from category_encoders) (1.19.5)\n",
            "Requirement already satisfied, skipping upgrade: statsmodels>=0.9.0 in /usr/local/lib/python3.7/dist-packages (from category_encoders) (0.10.2)\n",
            "Requirement already satisfied, skipping upgrade: patsy>=0.5.1 in /usr/local/lib/python3.7/dist-packages (from category_encoders) (0.5.1)\n",
            "Requirement already satisfied, skipping upgrade: scikit-learn>=0.20.0 in /usr/local/lib/python3.7/dist-packages (from category_encoders) (0.22.2.post1)\n",
            "Requirement already satisfied, skipping upgrade: pandas>=0.21.1 in /usr/local/lib/python3.7/dist-packages (from category_encoders) (1.1.5)\n",
            "Requirement already satisfied, skipping upgrade: six in /usr/local/lib/python3.7/dist-packages (from patsy>=0.5.1->category_encoders) (1.15.0)\n",
            "Requirement already satisfied, skipping upgrade: joblib>=0.11 in /usr/local/lib/python3.7/dist-packages (from scikit-learn>=0.20.0->category_encoders) (1.0.1)\n",
            "Requirement already satisfied, skipping upgrade: python-dateutil>=2.7.3 in /usr/local/lib/python3.7/dist-packages (from pandas>=0.21.1->category_encoders) (2.8.1)\n",
            "Requirement already satisfied, skipping upgrade: pytz>=2017.2 in /usr/local/lib/python3.7/dist-packages (from pandas>=0.21.1->category_encoders) (2018.9)\n",
            "Installing collected packages: category-encoders\n",
            "Successfully installed category-encoders-2.2.2\n"
          ],
          "name": "stdout"
        }
      ]
    },
    {
      "cell_type": "code",
      "metadata": {
        "colab": {
          "base_uri": "https://localhost:8080/"
        },
        "id": "IRSyGnhSJjGo",
        "outputId": "8705a125-3624-48a0-cfd1-6770d7100455"
      },
      "source": [
        "import warnings\n",
        "warnings.simplefilter(action='ignore', category=FutureWarning)\n",
        "import pandas.util.testing as tm\n",
        "from sklearn.metrics import accuracy_score\n",
        "from category_encoders import OneHotEncoder as OHE\n",
        "\n",
        "# use_cat_names = True : 각 범주명을 특성에 사용\n",
        "encoding = OHE(cols=['gender'], use_cat_names = True)\n",
        "\n",
        "# test-set (학습)\n",
        "X_train_encoded = encoding.fit_transform(X_train)\n",
        "\n",
        "# val-set  (검정=semi테스트)\n",
        "X_val_encoded = encoding.transform(X_val)\n",
        "\n",
        "# 모델에 (encoded train_set) fit \n",
        "log.fit(X_train_encoded, y_train)\n",
        "\n",
        "# 검증 세트의 정확도 \n",
        "print(log.score(X_val_encoded,y_val))"
      ],
      "execution_count": 7,
      "outputs": [
        {
          "output_type": "stream",
          "text": [
            "/usr/local/lib/python3.7/dist-packages/sklearn/utils/validation.py:760: DataConversionWarning: A column-vector y was passed when a 1d array was expected. Please change the shape of y to (n_samples, ), for example using ravel().\n",
            "  y = column_or_1d(y, warn=True)\n"
          ],
          "name": "stderr"
        },
        {
          "output_type": "stream",
          "text": [
            "0.6944444444444444\n"
          ],
          "name": "stdout"
        }
      ]
    },
    {
      "cell_type": "markdown",
      "metadata": {
        "id": "OdjfffHo3wXN"
      },
      "source": [
        "# 5)"
      ]
    },
    {
      "cell_type": "code",
      "metadata": {
        "id": "-3FQ3kjhTSyS",
        "colab": {
          "base_uri": "https://localhost:8080/"
        },
        "outputId": "cae6c019-6556-4629-cf0c-2f2657fb670d"
      },
      "source": [
        "# 스케일링\n",
        "from sklearn.preprocessing import StandardScaler\n",
        "\n",
        "scaling = StandardScaler()\n",
        "X_train_scaled = scaling.fit_transform(X_train_encoded)\n",
        "X_val_scaled = scaling.transform(X_val_encoded)\n",
        "\n",
        "# 모델에 검정_set fit \n",
        "log.fit(X_val_scaled,y_val)\n",
        "\n",
        "# test_set 인코딩 및 표준화\n",
        "X_test_encoded = encoding.transform(X_test)\n",
        "X_test_scaled = scaling.transform(X_test_encoded)\n",
        "\n",
        "y_pred = log.predict(X_test_scaled )\n",
        "# 테스트세트에서 딱 한 번 정확도를 확인\n",
        "accuracy_score(y_test,y_pred)"
      ],
      "execution_count": 8,
      "outputs": [
        {
          "output_type": "stream",
          "text": [
            "/usr/local/lib/python3.7/dist-packages/sklearn/utils/validation.py:760: DataConversionWarning: A column-vector y was passed when a 1d array was expected. Please change the shape of y to (n_samples, ), for example using ravel().\n",
            "  y = column_or_1d(y, warn=True)\n"
          ],
          "name": "stderr"
        },
        {
          "output_type": "execute_result",
          "data": {
            "text/plain": [
              "0.7314947127750786"
            ]
          },
          "metadata": {
            "tags": []
          },
          "execution_count": 8
        }
      ]
    },
    {
      "cell_type": "code",
      "metadata": {
        "id": "PneWECfhUaC2",
        "colab": {
          "base_uri": "https://localhost:8080/"
        },
        "outputId": "aea98840-4181-4cc8-dc1d-957814284fb2"
      },
      "source": [
        "# 평균 & 편차 \n",
        "X_train_scaled.T[0].mean(), X_train_scaled.T[0].std()"
      ],
      "execution_count": 9,
      "outputs": [
        {
          "output_type": "execute_result",
          "data": {
            "text/plain": [
              "(-1.3390900075507426e-16, 1.0)"
            ]
          },
          "metadata": {
            "tags": []
          },
          "execution_count": 9
        }
      ]
    },
    {
      "cell_type": "code",
      "metadata": {
        "id": "wQ0pY5zGUgCh",
        "colab": {
          "base_uri": "https://localhost:8080/"
        },
        "outputId": "868ccb7d-762b-4c07-ba9d-f5672ed8dec6"
      },
      "source": [
        "# 계수 확인\n",
        "coefficients = pd.Series(log.coef_[0], X_train_encoded.columns)\n",
        "coefficients\n",
        "\n",
        "# 결과 gender1이 심혈관 질환증상 많다."
      ],
      "execution_count": 10,
      "outputs": [
        {
          "output_type": "execute_result",
          "data": {
            "text/plain": [
              "age            0.358241\n",
              "gender_1.0     0.009234\n",
              "gender_2.0    -0.009234\n",
              "height        -0.028715\n",
              "weight         0.153065\n",
              "ap_hi          5.830655\n",
              "ap_lo          0.008522\n",
              "cholesterol    0.405508\n",
              "gluc          -0.076102\n",
              "smoke         -0.013898\n",
              "alco          -0.042711\n",
              "active        -0.094223\n",
              "dtype: float64"
            ]
          },
          "metadata": {
            "tags": []
          },
          "execution_count": 10
        }
      ]
    },
    {
      "cell_type": "code",
      "metadata": {
        "id": "lM3VHiY_U20W",
        "colab": {
          "base_uri": "https://localhost:8080/",
          "height": 265
        },
        "outputId": "a122c832-233c-4961-c0cf-f247fea46240"
      },
      "source": [
        "# 시각화\n",
        "coefficients.sort_values().plot.barh();"
      ],
      "execution_count": 11,
      "outputs": [
        {
          "output_type": "display_data",
          "data": {
            "image/png": "[encoded data removed]",
            "text/plain": [
              "<Figure size 432x288 with 1 Axes>"
            ]
          },
          "metadata": {
            "tags": [],
            "needs_background": "light"
          }
        }
      ]
    },
    {
      "cell_type": "markdown",
      "metadata": {
        "id": "1P0gHBScsbwS"
      },
      "source": [
        "- 69976\n",
        "- 11196\n",
        "- 0.7073\n",
        "- 0.694\n",
        "- 0.73149"
      ]
    }
  ]
}